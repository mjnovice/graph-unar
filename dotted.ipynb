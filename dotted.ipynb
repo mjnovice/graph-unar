{
 "cells": [
  {
   "cell_type": "code",
   "execution_count": 76,
   "metadata": {},
   "outputs": [],
   "source": [
    "%matplotlib inline\n",
    "from matplotlib import pyplot as plt\n",
    "import cv2\n",
    "import numpy as np\n",
    "import pytesseract\n",
    "from pytesseract import Output\n",
    "\n",
    "def iswhite(color):\n",
    "    return color>=250\n",
    "\n",
    "def find_grid_bounds(img):\n",
    "    y_end, x_end = img.shape[:2]\n",
    "    y_end-=1\n",
    "    x_end-=1\n",
    "    x_start, y_start = 0,0\n",
    "    curx = x_start\n",
    "    cury = y_start\n",
    "    bound = {}\n",
    "    while curx<x_end:\n",
    "        found=False\n",
    "        cury=y_start\n",
    "        while cury<y_end and iswhite(img[cury,curx]):\n",
    "            cury+=1\n",
    "        if not cury>=y_end/2:\n",
    "            found=True\n",
    "            break\n",
    "        if found:\n",
    "            break\n",
    "        curx+=1\n",
    "    bound['x_start']=curx\n",
    "    bound['y_start']=cury\n",
    "    \n",
    "    cury=y_end\n",
    "    curx=x_end\n",
    "    while curx>=0:\n",
    "        found=False\n",
    "        cury=y_end\n",
    "        while cury>=0 and iswhite(img[cury,curx]):\n",
    "            cury-=1\n",
    "        if cury>(2*y_end)/3:\n",
    "            found=True\n",
    "            break\n",
    "        if found:\n",
    "            break\n",
    "        curx-=1\n",
    "    bound['x_end']=curx\n",
    "    bound['y_end']=cury\n",
    "    cv2.rectangle(img,(bound['x_start'],bound['y_start']),(bound['x_end'],bound['y_end']),(0,255,0),2)\n",
    "    plt.imshow(img)\n",
    "    return bound\n",
    "\n",
    "\n",
    "def get_mids(bounds):\n",
    "    midx = int((bounds['x_end']-bounds['x_start'])/2)+50\n",
    "    midy = int((bounds['y_end']-bounds['y_start'])/2)+70\n",
    "    return midx,midy\n",
    "\n",
    "def overlay_grid(img,bounds,typ):\n",
    "    gap=2\n",
    "    white=(255,255,255)\n",
    "    thickness=1\n",
    "    cross_hair = 10\n",
    "    err=10\n",
    "    midx,midy=get_mids(bounds)\n",
    "        \n",
    "    if typ=='hor':\n",
    "        for x in range(bounds['x_start'],bounds['x_end']+1,gap):\n",
    "            if abs(x-midx)<=cross_hair:\n",
    "                continue\n",
    "            cv2.line(img, (x, bounds['y_start']-err), (x, midy-cross_hair), 255, thickness)\n",
    "            cv2.line(img, (x, midy+cross_hair), (x, bounds['y_end']+err), 255, thickness)\n",
    "\n",
    "    if typ=='ver':\n",
    "        for y in range(bounds['y_start'],bounds['y_end']+1,gap):\n",
    "            if abs(y-midy)<=cross_hair:\n",
    "                continue\n",
    "            cv2.line(img, (bounds['x_start']-err,y), (midx-cross_hair,y), 255, thickness)\n",
    "            cv2.line(img, (midx+cross_hair,y), (bounds['x_end']+err,y), 255, thickness)\n",
    "def delete_axis_labels(img,bounds):\n",
    "    size=40\n",
    "    midx, midy = get_mids(bounds)\n",
    "    x_coords = (bounds['x_end']+10,midy-50)\n",
    "    y_coords = (midx-50,bounds['y_start']-50)\n",
    "    cv2.rectangle(img, x_coords,(x_coords[0]+size,x_coords[1]+size), 255,-1)\n",
    "    cv2.rectangle(img, y_coords,(y_coords[0]+size,y_coords[1]+size), 255,-1)\n",
    "    return x_coords, y_coords,size\n",
    "    \n",
    "def add_axis_labels(img,bounds):\n",
    "    x_coords,y_coords,size = delete_axis_labels(img,bounds)\n",
    "    x = cv2.cvtColor(cv2.imread('x.png'), cv2.COLOR_BGR2GRAY)\n",
    "    x = cv2.resize(x, (size,size), interpolation = cv2.INTER_AREA) \n",
    "    y = cv2.cvtColor(cv2.imread('y.png'), cv2.COLOR_BGR2GRAY)\n",
    "    y = cv2.resize(y, (size,size), interpolation = cv2.INTER_AREA) \n",
    "\n",
    "    img[x_coords[1]+size:x_coords[1]+2*size, x_coords[0]:x_coords[0]+size] = x\n",
    "    img[y_coords[1]:y_coords[1]+size, y_coords[0]+size:y_coords[0]+2*size] = y\n",
    "\n",
    "def fix_gaps(curve):\n",
    "    image, contours, _ = cv2.findContours(curve,cv2.RETR_TREE,cv2.CHAIN_APPROX_SIMPLE)\n",
    "    orig = cv2.imread('linegraph.png')\n",
    "    cv2.drawContours(curve, contours, -1, (0, 255, 0), 12)\n",
    "    image, contours, _ = cv2.findContours(curve,cv2.RETR_TREE,cv2.CHAIN_APPROX_SIMPLE)\n",
    "    cv2.drawContours(curve, contours, -1, (0, 255, 0), 3)\n",
    "    kernel = np.ones((3,3),np.uint8)\n",
    "    \n",
    "    return cv2.dilate(curve,kernel,iterations = 4)\n",
    "\n"
   ]
  },
  {
   "cell_type": "code",
   "execution_count": 77,
   "metadata": {},
   "outputs": [
    {
     "data": {
      "image/png": "[encoded data removed]",
      "text/plain": [
       "<Figure size 1080x720 with 1 Axes>"
      ]
     },
     "metadata": {
      "needs_background": "light"
     },
     "output_type": "display_data"
    }
   ],
   "source": [
    "plt.rcParams['figure.figsize'] = [15, 10]\n",
    "def isolate_grid(img=cv2.imread('linegraph.png')):\n",
    "    #find axes\n",
    "    kernel_y = np.ones((200,1), np.uint8)\n",
    "    kernel_x = np.ones((1,200), np.uint8)\n",
    "    yaxis = cv2.morphologyEx(img, cv2.MORPH_CLOSE, kernel_y)\n",
    "    xaxis = cv2.morphologyEx(img, cv2.MORPH_CLOSE, kernel_x)\n",
    "    #_, xaxis = cv2.threshold(xaxis, 100, 255, cv2.THRESH_BINARY)\n",
    "    #_, yaxis = cv2.threshold(yaxis, 100, 255, cv2.THRESH_BINARY)\n",
    "    plt.imshow(xaxis,cmap=plt.cm.gray)\n",
    "    return xaxis, yaxis\n",
    "d=isolate_grid()\n"
   ]
  },
  {
   "cell_type": "code",
   "execution_count": 78,
   "metadata": {},
   "outputs": [
    {
     "data": {
      "text/plain": [
       "<matplotlib.image.AxesImage at 0x7f00e2ffaef0>"
      ]
     },
     "execution_count": 78,
     "metadata": {},
     "output_type": "execute_result"
    },
    {
     "data": {
      "image/png": "[encoded data removed]",
      "text/plain": [
       "<Figure size 720x360 with 1 Axes>"
      ]
     },
     "metadata": {
      "needs_background": "light"
     },
     "output_type": "display_data"
    }
   ],
   "source": [
    "img = cv2.imread('linegraph.png')\n",
    "img = cv2.cvtColor(img, cv2.COLOR_BGR2GRAY)\n",
    "ret, img = cv2.threshold(img, 230, 255, cv2.THRESH_BINARY)\n",
    "kernel = np.zeros((15,15),np.uint8)\n",
    "#img = cv2.erode(img,kernel,iterations = 25)\n",
    "plt.rcParams['figure.figsize'] = [10, 5]\n",
    "#edges = cv2.Canny(img,50,150,apertureSize = 3)\n",
    "plt.imshow(img,cmap=plt.cm.gray)\n",
    "\n",
    "bounds = find_grid_bounds(img)\n",
    "comp=bounds\n",
    "\n",
    "cv2.rectangle(img,(comp['x_start'],comp['y_start']),(comp['x_end'],comp['y_end']),(0,255,0),2)\n",
    "#plt.imshow(img)\n",
    "\n",
    "#find axes\n",
    "xaxis, yaxis = isolate_grid(img)\n",
    "plt.imshow(xaxis,cmap=plt.cm.gray)\n",
    "\n",
    "#find figure\n",
    "curve = cv2.add(img, (255-xaxis))\n",
    "curve = cv2.add(curve, (255-yaxis))\n",
    "ret, imt = cv2.threshold(img, 100, 255, cv2.THRESH_BINARY)\n",
    "\n",
    "plt.imshow(imt,cmap=plt.cm.gray)\n",
    "#plt.imshow(np.maximum(edges,imt))\n",
    "ret, curve = cv2.threshold(curve, 100, 255, cv2.THRESH_BINARY)\n",
    "\n",
    "#line = thresh_img\n",
    "curve = cv2.medianBlur(curve, 5)\n",
    "delete_axis_labels(curve,bounds)\n",
    "curve = fix_gaps(curve)\n",
    "#plt.imshow(curve, cmap = plt.cm.gray)\n",
    "\n",
    "#make axes dotted\n",
    "overlay_grid(yaxis,bounds,\"ver\")\n",
    "overlay_grid(xaxis,bounds,\"hor\")\n",
    "axes = np.minimum(xaxis,yaxis)\n",
    "_,axes = cv2.threshold(axes, 180, 255, cv2.THRESH_BINARY)\n",
    "#final\n",
    "curve_edges = cv2.Canny(curve,600,600,apertureSize = 7)\n",
    "kernel = np.ones((2,2), np.uint8)\n",
    "curve_edges = cv2.dilate(curve_edges,kernel,iterations = 1)\n",
    "#plt.imshow(curve_edges, cmap=plt.cm.gray)\n",
    "\n",
    "final = np.minimum(axes,curve)\n",
    "final = np.maximum(final,curve_edges)\n",
    "#add labels\n",
    "add_axis_labels(final,bounds)\n",
    "\n",
    "plt.imshow(final, cmap = plt.cm.gray)\n",
    "#plt.savefig(\"final.png\")\n"
   ]
  },
  {
   "cell_type": "code",
   "execution_count": 79,
   "metadata": {},
   "outputs": [],
   "source": [
    "\n",
    "fixed = fix_gaps(curve)\n"
   ]
  },
  {
   "cell_type": "code",
   "execution_count": 4,
   "metadata": {},
   "outputs": [
    {
     "ename": "NameError",
     "evalue": "name 'cerode' is not defined",
     "output_type": "error",
     "traceback": [
      "\u001b[0;31m---------------------------------------------------------------------------\u001b[0m",
      "\u001b[0;31mNameError\u001b[0m                                 Traceback (most recent call last)",
      "\u001b[0;32m<ipython-input-4-0dcbcc1340b7>\u001b[0m in \u001b[0;36m<module>\u001b[0;34m\u001b[0m\n\u001b[0;32m----> 1\u001b[0;31m \u001b[0mplt\u001b[0m\u001b[0;34m.\u001b[0m\u001b[0mimshow\u001b[0m\u001b[0;34m(\u001b[0m\u001b[0mcerode\u001b[0m\u001b[0;34m,\u001b[0m \u001b[0mcmap\u001b[0m \u001b[0;34m=\u001b[0m \u001b[0mplt\u001b[0m\u001b[0;34m.\u001b[0m\u001b[0mcm\u001b[0m\u001b[0;34m.\u001b[0m\u001b[0mgray\u001b[0m\u001b[0;34m)\u001b[0m\u001b[0;34m\u001b[0m\u001b[0;34m\u001b[0m\u001b[0m\n\u001b[0m",
      "\u001b[0;31mNameError\u001b[0m: name 'cerode' is not defined"
     ]
    }
   ],
   "source": [
    "\n",
    "plt.imshow(cerode, cmap = plt.cm.gray)\n"
   ]
  },
  {
   "cell_type": "markdown",
   "metadata": {},
   "source": [
    "### "
   ]
  },
  {
   "cell_type": "code",
   "execution_count": null,
   "metadata": {},
   "outputs": [],
   "source": []
  },
  {
   "cell_type": "code",
   "execution_count": null,
   "metadata": {},
   "outputs": [],
   "source": []
  }
 ],
 "metadata": {
  "kernelspec": {
   "display_name": "Python 3",
   "language": "python",
   "name": "python3"
  },
  "language_info": {
   "codemirror_mode": {
    "name": "ipython",
    "version": 3
   },
   "file_extension": ".py",
   "mimetype": "text/x-python",
   "name": "python",
   "nbconvert_exporter": "python",
   "pygments_lexer": "ipython3",
   "version": "3.6.9"
  }
 },
 "nbformat": 4,
 "nbformat_minor": 2
}
